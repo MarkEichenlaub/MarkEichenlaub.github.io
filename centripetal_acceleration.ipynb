{
 "cells": [
  {
   "cell_type": "markdown",
   "metadata": {},
   "source": [
    "Here is a way to find the formula for centripetal acceleration, $a = \\dfrac{v^2}{r},$ using arguments about springs and vectors. This lets us avoid using calculus."
   ]
  },
  {
   "cell_type": "markdown",
   "metadata": {},
   "source": [
    "To begin with, try playing around with this simulation of a mass on a spring. It can have either harmonic motion (if you let it go without a push) or an elliptical motion (most of the time) or circular motion (if you give it _exactly_ the right shove to begin)."
   ]
  },
  {
   "cell_type": "code",
   "execution_count": null,
   "metadata": {},
   "outputs": [
    {
     "data": {
      "text/html": [
       "<div id=\"glowscript\" class=\"glowscript\"></div>"
      ],
      "text/plain": [
       "<IPython.core.display.HTML object>"
      ]
     },
     "metadata": {},
     "output_type": "display_data"
    },
    {
     "data": {
      "application/javascript": [
       "if (typeof Jupyter !== \"undefined\") { window.__context = { glowscript_container: $(\"#glowscript\").removeAttr(\"id\")};}else{ element.textContent = ' ';}"
      ],
      "text/plain": [
       "<IPython.core.display.Javascript object>"
      ]
     },
     "metadata": {},
     "output_type": "display_data"
    },
    {
     "data": {
      "text/html": [
       "<div id=\"glowscript\" class=\"glowscript\"></div>"
      ],
      "text/plain": [
       "<IPython.core.display.HTML object>"
      ]
     },
     "metadata": {},
     "output_type": "display_data"
    },
    {
     "data": {
      "application/javascript": [
       "if (typeof Jupyter !== \"undefined\") { window.__context = { glowscript_container: $(\"#glowscript\").removeAttr(\"id\")};}else{ element.textContent = ' ';}"
      ],
      "text/plain": [
       "<IPython.core.display.Javascript object>"
      ]
     },
     "metadata": {},
     "output_type": "display_data"
    },
    {
     "name": "stdout",
     "output_type": "stream",
     "text": [
      "Click on the box to move it around. Give it a flick and you can throw it.\n"
     ]
    },
    {
     "data": {
      "application/javascript": [
       "if (typeof Jupyter !== \"undefined\") {require.undef(\"nbextensions/vpython_libraries/glow.min\");}else{element.textContent = ' ';}"
      ],
      "text/plain": [
       "<IPython.core.display.Javascript object>"
      ]
     },
     "metadata": {},
     "output_type": "display_data"
    },
    {
     "data": {
      "application/javascript": [
       "if (typeof Jupyter !== \"undefined\") {require.undef(\"nbextensions/vpython_libraries/glowcomm\");}else{element.textContent = ' ';}"
      ],
      "text/plain": [
       "<IPython.core.display.Javascript object>"
      ]
     },
     "metadata": {},
     "output_type": "display_data"
    },
    {
     "data": {
      "application/javascript": [
       "if (typeof Jupyter !== \"undefined\") {require.undef(\"nbextensions/vpython_libraries/jquery-ui.custom.min\");}else{element.textContent = ' ';}"
      ],
      "text/plain": [
       "<IPython.core.display.Javascript object>"
      ]
     },
     "metadata": {},
     "output_type": "display_data"
    },
    {
     "data": {
      "application/javascript": [
       "if (typeof Jupyter !== \"undefined\") {require([\"nbextensions/vpython_libraries/glow.min\"], function(){console.log(\"GLOW LOADED\");});}else{element.textContent = ' ';}"
      ],
      "text/plain": [
       "<IPython.core.display.Javascript object>"
      ]
     },
     "metadata": {},
     "output_type": "display_data"
    },
    {
     "data": {
      "application/javascript": [
       "if (typeof Jupyter !== \"undefined\") {require([\"nbextensions/vpython_libraries/glowcomm\"], function(){console.log(\"GLOWCOMM LOADED\");});}else{element.textContent = ' ';}"
      ],
      "text/plain": [
       "<IPython.core.display.Javascript object>"
      ]
     },
     "metadata": {},
     "output_type": "display_data"
    },
    {
     "data": {
      "application/javascript": [
       "if (typeof Jupyter !== \"undefined\") {require([\"nbextensions/vpython_libraries/jquery-ui.custom.min\"], function(){console.log(\"JQUERY LOADED\");});}else{element.textContent = ' ';}"
      ],
      "text/plain": [
       "<IPython.core.display.Javascript object>"
      ]
     },
     "metadata": {},
     "output_type": "display_data"
    },
    {
     "name": "stdout",
     "output_type": "stream",
     "text": [
      "stop/start: s\n",
      "reset: r\n"
     ]
    }
   ],
   "source": [
    "from vpython import *\n",
    "\n",
    "scene = canvas(background = color.white)\n",
    "scene.fov = 0.01\n",
    "scene.userspin = False\n",
    "\n",
    "paused = False\n",
    "\n",
    "print(\"Click on the box to move it around. Give it a flick and you can throw it.\")\n",
    "\n",
    "mybox = box(pos = vector(1,0,0), length = .1, height = .1, width = .001, color = color.green, make_trail = True, trail_type = \"points\", interval = 2, retain = 100, trail_radius = .01 )\n",
    "mybox.v = vector(0,0,0)\n",
    "mybox.a = vector(0,0,0)\n",
    "mybox.m = 1\n",
    "mybox.oldpos = mybox.pos\n",
    "\n",
    "\n",
    "spring = helix(pos = vector(0,0,0), axis = mybox.pos, radius = 0.1, color = color.black)\n",
    "spring.k = 1\n",
    "\n",
    "t = 0\n",
    "\n",
    "period = 2*pi*sqrt(mybox.m/spring.k)\n",
    "dt = period/100\n",
    "\n",
    "\n",
    "drag = False\n",
    "\n",
    "def down():\n",
    "    global drag\n",
    "    drag = True\n",
    "    \n",
    "def move():\n",
    "    global drag, mybox\n",
    "    if drag:\n",
    "        mybox.pos = scene.mouse.pos\n",
    "        \n",
    "def up():\n",
    "    global drag\n",
    "    drag = False\n",
    "    \n",
    "def press(event):\n",
    "    global paused\n",
    "    if event.which==83:\n",
    "        paused = not(paused)\n",
    "    if event.which==82:\n",
    "        mybox.pos = vector(1,0,0)\n",
    "        mybox.v = vector(0,0,0)\n",
    "        mybox.clear_trail()\n",
    "        energy = mag(mybox.pos)*mag(mybox.pos)*spring.k/2 + mybox.m*mag(mybox.v)*mag(mybox.v)/2\n",
    "\n",
    "scene.bind(\"mousedown\",down)\n",
    "scene.bind(\"mousemove\",move)\n",
    "scene.bind(\"mouseup\",up)\n",
    "scene.bind(\"keydown\", press)\n",
    "    \n",
    "print(\"stop/start: s\")\n",
    "print(\"reset: r\")\n",
    "\n",
    "\n",
    "n = 0\n",
    "\n",
    "energy = mag(mybox.pos)*mag(mybox.pos)*spring.k/2 + mybox.m*mag(mybox.v)*mag(mybox.v)/2\n",
    "\n",
    "while True:\n",
    "    rate(1/dt)\n",
    "    t = t + dt\n",
    "    \n",
    "    if not drag and not paused:\n",
    "        n = n+1\n",
    "        apos = mybox.v\n",
    "        av = -spring.k/mybox.m*mybox.pos\n",
    "        bpos = mybox.v + av*dt/2\n",
    "        bv = -spring.k/mybox.m*(mybox.pos + dt/2*av)\n",
    "        cpos = mybox.v + dt/2*bv\n",
    "        cv = -spring.k/mybox.m*(mybox.pos + dt/2*bv)\n",
    "        dpos = mybox.v + dt*cv\n",
    "        dv = -spring.k/mybox.m*(mybox.pos + dt*cv)\n",
    "        \n",
    "        mybox.pos = mybox.pos + dt/6*(apos + 2*bpos + 2*cpos + dpos)\n",
    "        mybox.v = mybox.v + dt/6*(av+2*bv+2*cv+dv)\n",
    "        \n",
    "        new_energy = mag(mybox.pos)*mag(mybox.pos)*spring.k/2 + mybox.m*mag(mybox.v)*mag(mybox.v)/2.0\n",
    "                \n",
    "        mybox.pos = mybox.pos * sqrt(energy/new_energy)\n",
    "        mybox.v = mybox.v*sqrt(energy/new_energy)\n",
    "        \n",
    "        \n",
    "    else:\n",
    "        mybox.v = (mybox.pos - mybox.oldpos)/dt\n",
    "        mybox.oldpos = mybox.pos\n",
    "        energy = mag(mybox.pos)*mag(mybox.pos)*spring.k/2 + mybox.m*mag(mybox.v)*mag(mybox.v)/2\n",
    "        \n",
    "    \n",
    "    spring.axis = mybox.pos\n",
    "  \n",
    "    \n",
    "    \n",
    "    \n",
    "\n"
   ]
  },
  {
   "cell_type": "raw",
   "metadata": {},
   "source": [
    "With such a close link between the two, it makes sense that understanding the acceleration of harmonic motion can help us understand that of circular motion."
   ]
  },
  {
   "cell_type": "code",
   "execution_count": null,
   "metadata": {},
   "outputs": [],
   "source": []
  }
 ],
 "metadata": {
  "kernelspec": {
   "display_name": "Python 3",
   "language": "python",
   "name": "python3"
  },
  "language_info": {
   "codemirror_mode": {
    "name": "ipython",
    "version": 3
   },
   "file_extension": ".py",
   "mimetype": "text/x-python",
   "name": "python",
   "nbconvert_exporter": "python",
   "pygments_lexer": "ipython3",
   "version": "3.7.4"
  }
 },
 "nbformat": 4,
 "nbformat_minor": 4
}
